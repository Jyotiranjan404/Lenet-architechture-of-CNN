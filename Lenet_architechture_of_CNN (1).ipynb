{
  "nbformat": 4,
  "nbformat_minor": 0,
  "metadata": {
    "colab": {
      "name": "Lenet architechture of CNN.ipynb",
      "provenance": []
    },
    "kernelspec": {
      "name": "python3",
      "display_name": "Python 3"
    },
    "language_info": {
      "name": "python"
    },
    "accelerator": "GPU"
  },
  "cells": [
    {
      "cell_type": "markdown",
      "metadata": {
        "id": "U1wwLTGPvz5b"
      },
      "source": [
        "**Basic Introduction**\n",
        "\n",
        "LeNet-5, from the paper Gradient-Based Learning Applied to Document Recognition, is a very efficient convolutional neural network for handwritten character recognition."
      ]
    },
    {
      "cell_type": "markdown",
      "metadata": {
        "id": "wMbtn9R7w_hH"
      },
      "source": [
        "**Implement LeNet-5 on MNIST**\n",
        "\n",
        "MNIST data is having some handwritten characters."
      ]
    },
    {
      "cell_type": "code",
      "metadata": {
        "id": "GoW7NN1E1u2J"
      },
      "source": [
        "import pandas as pd\n",
        "import numpy as np\n",
        "import tensorflow as tf\n",
        "from tensorflow.keras.models import Sequential\n",
        "from tensorflow.keras.layers import Conv2D, MaxPooling2D, Flatten, Dense, Dropout\n",
        "from tensorflow.keras.callbacks import ModelCheckpoint   \n",
        "import matplotlib.pyplot as plt\n",
        "%matplotlib inline\n",
        "import seaborn as sns \n",
        "import keras\n",
        "from keras.utils import np_utils\n",
        "from tensorflow.keras.datasets import mnist"
      ],
      "execution_count": 1,
      "outputs": []
    },
    {
      "cell_type": "code",
      "metadata": {
        "id": "0jwC7DN03MVb",
        "colab": {
          "base_uri": "https://localhost:8080/"
        },
        "outputId": "91051afa-def8-4f47-ff65-fd5fadc0e804"
      },
      "source": [
        "(X_train, y_train), (X_test, y_test) = mnist.load_data()"
      ],
      "execution_count": 2,
      "outputs": [
        {
          "output_type": "stream",
          "text": [
            "Downloading data from https://storage.googleapis.com/tensorflow/tf-keras-datasets/mnist.npz\n",
            "11493376/11490434 [==============================] - 0s 0us/step\n",
            "11501568/11490434 [==============================] - 0s 0us/step\n"
          ],
          "name": "stdout"
        }
      ]
    },
    {
      "cell_type": "code",
      "metadata": {
        "id": "ckZqs_TK3MSn",
        "colab": {
          "base_uri": "https://localhost:8080/"
        },
        "outputId": "3aab2e60-fe93-46cf-a9d4-1d6b85d6593a"
      },
      "source": [
        "print(len(X_train))\n",
        "print(len(X_test))"
      ],
      "execution_count": 3,
      "outputs": [
        {
          "output_type": "stream",
          "text": [
            "60000\n",
            "10000\n"
          ],
          "name": "stdout"
        }
      ]
    },
    {
      "cell_type": "code",
      "metadata": {
        "id": "yRpuh-6z3MQF",
        "colab": {
          "base_uri": "https://localhost:8080/"
        },
        "outputId": "394de09e-5902-4078-8c24-4fa05c60b5d4"
      },
      "source": [
        "X_train = X_train.astype('float32')/255 #Scaling the data\n",
        "X_test = X_test.astype('float32')/255 \n",
        "\n",
        "print('X_train shape:', X_train.shape)\n",
        "print(X_train.shape[0], '=train samples')\n",
        "print(X_test.shape[0], '=test samples')"
      ],
      "execution_count": 4,
      "outputs": [
        {
          "output_type": "stream",
          "text": [
            "X_train shape: (60000, 28, 28)\n",
            "60000 =train samples\n",
            "10000 =test samples\n"
          ],
          "name": "stdout"
        }
      ]
    },
    {
      "cell_type": "code",
      "metadata": {
        "id": "V99H3Yw03MNc",
        "colab": {
          "base_uri": "https://localhost:8080/"
        },
        "outputId": "30924a4e-861b-4bae-a783-e5f7a84dedd6"
      },
      "source": [
        "from keras.utils import np_utils\n",
        "\n",
        "num_classes = 10 \n",
        "# print first ten (integer-valued) training labels\n",
        "print('Integer-valued labels:')\n",
        "print(y_train[:10])\n",
        "\n",
        "# one-hot encode the labels\n",
        "# convert class vectors to binary class matrices\n",
        "y_train = np_utils.to_categorical(y_train, num_classes)\n",
        "y_test = np_utils.to_categorical(y_test, num_classes)\n",
        "\n",
        "# print first ten (one-hot) training labels\n",
        "print('One-hot labels:')\n",
        "print(y_train[:10])"
      ],
      "execution_count": 5,
      "outputs": [
        {
          "output_type": "stream",
          "text": [
            "Integer-valued labels:\n",
            "[5 0 4 1 9 2 1 3 1 4]\n",
            "One-hot labels:\n",
            "[[0. 0. 0. 0. 0. 1. 0. 0. 0. 0.]\n",
            " [1. 0. 0. 0. 0. 0. 0. 0. 0. 0.]\n",
            " [0. 0. 0. 0. 1. 0. 0. 0. 0. 0.]\n",
            " [0. 1. 0. 0. 0. 0. 0. 0. 0. 0.]\n",
            " [0. 0. 0. 0. 0. 0. 0. 0. 0. 1.]\n",
            " [0. 0. 1. 0. 0. 0. 0. 0. 0. 0.]\n",
            " [0. 1. 0. 0. 0. 0. 0. 0. 0. 0.]\n",
            " [0. 0. 0. 1. 0. 0. 0. 0. 0. 0.]\n",
            " [0. 1. 0. 0. 0. 0. 0. 0. 0. 0.]\n",
            " [0. 0. 0. 0. 1. 0. 0. 0. 0. 0.]]\n"
          ],
          "name": "stdout"
        }
      ]
    },
    {
      "cell_type": "code",
      "metadata": {
        "id": "viXNsoGv3MK8",
        "colab": {
          "base_uri": "https://localhost:8080/"
        },
        "outputId": "280cb244-3cd8-4af9-87de-4f0f6217bc99"
      },
      "source": [
        "img_rows, img_cols = 28, 28\n",
        "\n",
        "X_train = X_train.reshape(X_train.shape[0], img_rows, img_cols, 1)\n",
        "X_test = X_test.reshape(X_test.shape[0], img_rows, img_cols, 1)\n",
        "input_shape = (img_rows, img_cols, 1)\n",
        "\n",
        "print('input_shape: ', input_shape)\n",
        "print('x_train shape:', X_train.shape)"
      ],
      "execution_count": 6,
      "outputs": [
        {
          "output_type": "stream",
          "text": [
            "input_shape:  (28, 28, 1)\n",
            "x_train shape: (60000, 28, 28, 1)\n"
          ],
          "name": "stdout"
        }
      ]
    },
    {
      "cell_type": "code",
      "metadata": {
        "id": "yEa8NPre3MIF",
        "colab": {
          "base_uri": "https://localhost:8080/"
        },
        "outputId": "b4efc353-b60a-4d24-b195-aa7e0475297a"
      },
      "source": [
        "model = Sequential()\n",
        "model.add(Conv2D(32, kernel_size=(3, 3),activation='relu',input_shape=(28,28,1))) #26*26*32\n",
        "model.add(Conv2D(32, kernel_size=(3, 3),activation='relu')) #24*24*32\n",
        "model.add(MaxPooling2D(pool_size=(2, 2))) #12*12*32\n",
        "model.add(Conv2D(64, kernel_size=(3, 3), activation='relu')) #10*10*64\n",
        "model.add(Conv2D(64, kernel_size=(3, 3), activation='relu')) #8*8*64\n",
        "model.add(MaxPooling2D(pool_size=(2, 2))) #4*4*64\n",
        "model.add(Flatten())\n",
        "model.add(Dense(64, activation='relu'))\n",
        "model.add(Dense(10, activation='softmax'))\n",
        "model.summary()"
      ],
      "execution_count": 7,
      "outputs": [
        {
          "output_type": "stream",
          "text": [
            "Model: \"sequential\"\n",
            "_________________________________________________________________\n",
            "Layer (type)                 Output Shape              Param #   \n",
            "=================================================================\n",
            "conv2d (Conv2D)              (None, 26, 26, 32)        320       \n",
            "_________________________________________________________________\n",
            "conv2d_1 (Conv2D)            (None, 24, 24, 32)        9248      \n",
            "_________________________________________________________________\n",
            "max_pooling2d (MaxPooling2D) (None, 12, 12, 32)        0         \n",
            "_________________________________________________________________\n",
            "conv2d_2 (Conv2D)            (None, 10, 10, 64)        18496     \n",
            "_________________________________________________________________\n",
            "conv2d_3 (Conv2D)            (None, 8, 8, 64)          36928     \n",
            "_________________________________________________________________\n",
            "max_pooling2d_1 (MaxPooling2 (None, 4, 4, 64)          0         \n",
            "_________________________________________________________________\n",
            "flatten (Flatten)            (None, 1024)              0         \n",
            "_________________________________________________________________\n",
            "dense (Dense)                (None, 64)                65600     \n",
            "_________________________________________________________________\n",
            "dense_1 (Dense)              (None, 10)                650       \n",
            "=================================================================\n",
            "Total params: 131,242\n",
            "Trainable params: 131,242\n",
            "Non-trainable params: 0\n",
            "_________________________________________________________________\n"
          ],
          "name": "stdout"
        }
      ]
    },
    {
      "cell_type": "code",
      "metadata": {
        "id": "9dgk6Ner3MFk"
      },
      "source": [
        "model.compile(loss='categorical_crossentropy', optimizer='rmsprop', \n",
        "              metrics=['accuracy'])"
      ],
      "execution_count": 8,
      "outputs": []
    },
    {
      "cell_type": "code",
      "metadata": {
        "id": "4y9qghHU3MCs",
        "colab": {
          "base_uri": "https://localhost:8080/"
        },
        "outputId": "9be699d7-8c5b-40ba-9e09-a760b175afb0"
      },
      "source": [
        "from tensorflow.keras.callbacks import ModelCheckpoint   \n",
        "\n",
        "# train the model\n",
        "checkpointer = ModelCheckpoint(filepath='model.weights.best.hdf5', verbose=1, \n",
        "                               save_best_only=True)\n",
        "hist = model.fit(X_train, y_train, batch_size=32, epochs=50,\n",
        "          validation_data=(X_test, y_test), callbacks=[checkpointer], \n",
        "          verbose=2, shuffle=True)"
      ],
      "execution_count": 9,
      "outputs": [
        {
          "output_type": "stream",
          "text": [
            "Epoch 1/50\n",
            "1875/1875 - 54s - loss: 0.1227 - accuracy: 0.9626 - val_loss: 0.0432 - val_accuracy: 0.9868\n",
            "\n",
            "Epoch 00001: val_loss improved from inf to 0.04323, saving model to model.weights.best.hdf5\n",
            "Epoch 2/50\n",
            "1875/1875 - 25s - loss: 0.0409 - accuracy: 0.9880 - val_loss: 0.0350 - val_accuracy: 0.9892\n",
            "\n",
            "Epoch 00002: val_loss improved from 0.04323 to 0.03496, saving model to model.weights.best.hdf5\n",
            "Epoch 3/50\n",
            "1875/1875 - 25s - loss: 0.0300 - accuracy: 0.9915 - val_loss: 0.0267 - val_accuracy: 0.9920\n",
            "\n",
            "Epoch 00003: val_loss improved from 0.03496 to 0.02669, saving model to model.weights.best.hdf5\n",
            "Epoch 4/50\n",
            "1875/1875 - 25s - loss: 0.0237 - accuracy: 0.9930 - val_loss: 0.0276 - val_accuracy: 0.9930\n",
            "\n",
            "Epoch 00004: val_loss did not improve from 0.02669\n",
            "Epoch 5/50\n",
            "1875/1875 - 25s - loss: 0.0213 - accuracy: 0.9940 - val_loss: 0.0213 - val_accuracy: 0.9929\n",
            "\n",
            "Epoch 00005: val_loss improved from 0.02669 to 0.02125, saving model to model.weights.best.hdf5\n",
            "Epoch 6/50\n",
            "1875/1875 - 25s - loss: 0.0187 - accuracy: 0.9948 - val_loss: 0.0392 - val_accuracy: 0.9901\n",
            "\n",
            "Epoch 00006: val_loss did not improve from 0.02125\n",
            "Epoch 7/50\n",
            "1875/1875 - 25s - loss: 0.0160 - accuracy: 0.9957 - val_loss: 0.0298 - val_accuracy: 0.9916\n",
            "\n",
            "Epoch 00007: val_loss did not improve from 0.02125\n",
            "Epoch 8/50\n",
            "1875/1875 - 25s - loss: 0.0149 - accuracy: 0.9959 - val_loss: 0.0456 - val_accuracy: 0.9921\n",
            "\n",
            "Epoch 00008: val_loss did not improve from 0.02125\n",
            "Epoch 9/50\n",
            "1875/1875 - 25s - loss: 0.0142 - accuracy: 0.9965 - val_loss: 0.0558 - val_accuracy: 0.9868\n",
            "\n",
            "Epoch 00009: val_loss did not improve from 0.02125\n",
            "Epoch 10/50\n",
            "1875/1875 - 25s - loss: 0.0112 - accuracy: 0.9971 - val_loss: 0.0479 - val_accuracy: 0.9905\n",
            "\n",
            "Epoch 00010: val_loss did not improve from 0.02125\n",
            "Epoch 11/50\n",
            "1875/1875 - 25s - loss: 0.0113 - accuracy: 0.9972 - val_loss: 0.0434 - val_accuracy: 0.9927\n",
            "\n",
            "Epoch 00011: val_loss did not improve from 0.02125\n",
            "Epoch 12/50\n",
            "1875/1875 - 25s - loss: 0.0105 - accuracy: 0.9976 - val_loss: 0.0473 - val_accuracy: 0.9923\n",
            "\n",
            "Epoch 00012: val_loss did not improve from 0.02125\n",
            "Epoch 13/50\n",
            "1875/1875 - 25s - loss: 0.0115 - accuracy: 0.9978 - val_loss: 0.0963 - val_accuracy: 0.9897\n",
            "\n",
            "Epoch 00013: val_loss did not improve from 0.02125\n",
            "Epoch 14/50\n",
            "1875/1875 - 25s - loss: 0.0086 - accuracy: 0.9981 - val_loss: 0.0640 - val_accuracy: 0.9922\n",
            "\n",
            "Epoch 00014: val_loss did not improve from 0.02125\n",
            "Epoch 15/50\n",
            "1875/1875 - 25s - loss: 0.0102 - accuracy: 0.9983 - val_loss: 0.0658 - val_accuracy: 0.9927\n",
            "\n",
            "Epoch 00015: val_loss did not improve from 0.02125\n",
            "Epoch 16/50\n",
            "1875/1875 - 25s - loss: 0.0096 - accuracy: 0.9980 - val_loss: 0.1324 - val_accuracy: 0.9904\n",
            "\n",
            "Epoch 00016: val_loss did not improve from 0.02125\n",
            "Epoch 17/50\n",
            "1875/1875 - 25s - loss: 0.0087 - accuracy: 0.9984 - val_loss: 0.1007 - val_accuracy: 0.9908\n",
            "\n",
            "Epoch 00017: val_loss did not improve from 0.02125\n",
            "Epoch 18/50\n",
            "1875/1875 - 25s - loss: 0.0099 - accuracy: 0.9983 - val_loss: 0.1020 - val_accuracy: 0.9915\n",
            "\n",
            "Epoch 00018: val_loss did not improve from 0.02125\n",
            "Epoch 19/50\n",
            "1875/1875 - 25s - loss: 0.0091 - accuracy: 0.9988 - val_loss: 0.0855 - val_accuracy: 0.9921\n",
            "\n",
            "Epoch 00019: val_loss did not improve from 0.02125\n",
            "Epoch 20/50\n",
            "1875/1875 - 25s - loss: 0.0078 - accuracy: 0.9984 - val_loss: 0.1007 - val_accuracy: 0.9925\n",
            "\n",
            "Epoch 00020: val_loss did not improve from 0.02125\n",
            "Epoch 21/50\n",
            "1875/1875 - 25s - loss: 0.0090 - accuracy: 0.9987 - val_loss: 0.1058 - val_accuracy: 0.9920\n",
            "\n",
            "Epoch 00021: val_loss did not improve from 0.02125\n",
            "Epoch 22/50\n",
            "1875/1875 - 25s - loss: 0.0069 - accuracy: 0.9988 - val_loss: 0.1091 - val_accuracy: 0.9930\n",
            "\n",
            "Epoch 00022: val_loss did not improve from 0.02125\n",
            "Epoch 23/50\n",
            "1875/1875 - 25s - loss: 0.0064 - accuracy: 0.9990 - val_loss: 0.1112 - val_accuracy: 0.9930\n",
            "\n",
            "Epoch 00023: val_loss did not improve from 0.02125\n",
            "Epoch 24/50\n",
            "1875/1875 - 25s - loss: 0.0077 - accuracy: 0.9988 - val_loss: 0.1137 - val_accuracy: 0.9936\n",
            "\n",
            "Epoch 00024: val_loss did not improve from 0.02125\n",
            "Epoch 25/50\n",
            "1875/1875 - 25s - loss: 0.0089 - accuracy: 0.9989 - val_loss: 0.1006 - val_accuracy: 0.9923\n",
            "\n",
            "Epoch 00025: val_loss did not improve from 0.02125\n",
            "Epoch 26/50\n",
            "1875/1875 - 25s - loss: 0.0087 - accuracy: 0.9986 - val_loss: 0.1279 - val_accuracy: 0.9918\n",
            "\n",
            "Epoch 00026: val_loss did not improve from 0.02125\n",
            "Epoch 27/50\n",
            "1875/1875 - 25s - loss: 0.0085 - accuracy: 0.9988 - val_loss: 0.1182 - val_accuracy: 0.9930\n",
            "\n",
            "Epoch 00027: val_loss did not improve from 0.02125\n",
            "Epoch 28/50\n",
            "1875/1875 - 25s - loss: 0.0057 - accuracy: 0.9990 - val_loss: 0.1595 - val_accuracy: 0.9929\n",
            "\n",
            "Epoch 00028: val_loss did not improve from 0.02125\n",
            "Epoch 29/50\n",
            "1875/1875 - 25s - loss: 0.0068 - accuracy: 0.9991 - val_loss: 0.1549 - val_accuracy: 0.9927\n",
            "\n",
            "Epoch 00029: val_loss did not improve from 0.02125\n",
            "Epoch 30/50\n",
            "1875/1875 - 25s - loss: 0.0068 - accuracy: 0.9992 - val_loss: 0.1562 - val_accuracy: 0.9931\n",
            "\n",
            "Epoch 00030: val_loss did not improve from 0.02125\n",
            "Epoch 31/50\n",
            "1875/1875 - 25s - loss: 0.0083 - accuracy: 0.9990 - val_loss: 0.1983 - val_accuracy: 0.9923\n",
            "\n",
            "Epoch 00031: val_loss did not improve from 0.02125\n",
            "Epoch 32/50\n",
            "1875/1875 - 25s - loss: 0.0067 - accuracy: 0.9992 - val_loss: 0.1537 - val_accuracy: 0.9934\n",
            "\n",
            "Epoch 00032: val_loss did not improve from 0.02125\n",
            "Epoch 33/50\n",
            "1875/1875 - 25s - loss: 0.0037 - accuracy: 0.9995 - val_loss: 0.1765 - val_accuracy: 0.9932\n",
            "\n",
            "Epoch 00033: val_loss did not improve from 0.02125\n",
            "Epoch 34/50\n",
            "1875/1875 - 25s - loss: 0.0053 - accuracy: 0.9995 - val_loss: 0.1839 - val_accuracy: 0.9926\n",
            "\n",
            "Epoch 00034: val_loss did not improve from 0.02125\n",
            "Epoch 35/50\n",
            "1875/1875 - 25s - loss: 0.0079 - accuracy: 0.9992 - val_loss: 0.2504 - val_accuracy: 0.9919\n",
            "\n",
            "Epoch 00035: val_loss did not improve from 0.02125\n",
            "Epoch 36/50\n",
            "1875/1875 - 25s - loss: 0.0086 - accuracy: 0.9991 - val_loss: 0.1952 - val_accuracy: 0.9925\n",
            "\n",
            "Epoch 00036: val_loss did not improve from 0.02125\n",
            "Epoch 37/50\n",
            "1875/1875 - 25s - loss: 0.0045 - accuracy: 0.9995 - val_loss: 0.2327 - val_accuracy: 0.9930\n",
            "\n",
            "Epoch 00037: val_loss did not improve from 0.02125\n",
            "Epoch 38/50\n",
            "1875/1875 - 25s - loss: 0.0049 - accuracy: 0.9995 - val_loss: 0.2398 - val_accuracy: 0.9929\n",
            "\n",
            "Epoch 00038: val_loss did not improve from 0.02125\n",
            "Epoch 39/50\n",
            "1875/1875 - 25s - loss: 0.0047 - accuracy: 0.9997 - val_loss: 0.2401 - val_accuracy: 0.9919\n",
            "\n",
            "Epoch 00039: val_loss did not improve from 0.02125\n",
            "Epoch 40/50\n",
            "1875/1875 - 25s - loss: 0.0072 - accuracy: 0.9994 - val_loss: 0.1727 - val_accuracy: 0.9928\n",
            "\n",
            "Epoch 00040: val_loss did not improve from 0.02125\n",
            "Epoch 41/50\n",
            "1875/1875 - 25s - loss: 0.0045 - accuracy: 0.9995 - val_loss: 0.2228 - val_accuracy: 0.9931\n",
            "\n",
            "Epoch 00041: val_loss did not improve from 0.02125\n",
            "Epoch 42/50\n",
            "1875/1875 - 25s - loss: 0.0042 - accuracy: 0.9995 - val_loss: 0.2767 - val_accuracy: 0.9936\n",
            "\n",
            "Epoch 00042: val_loss did not improve from 0.02125\n",
            "Epoch 43/50\n",
            "1875/1875 - 25s - loss: 0.0042 - accuracy: 0.9997 - val_loss: 0.2426 - val_accuracy: 0.9932\n",
            "\n",
            "Epoch 00043: val_loss did not improve from 0.02125\n",
            "Epoch 44/50\n",
            "1875/1875 - 25s - loss: 0.0040 - accuracy: 0.9997 - val_loss: 0.2591 - val_accuracy: 0.9933\n",
            "\n",
            "Epoch 00044: val_loss did not improve from 0.02125\n",
            "Epoch 45/50\n",
            "1875/1875 - 25s - loss: 0.0045 - accuracy: 0.9998 - val_loss: 0.2420 - val_accuracy: 0.9937\n",
            "\n",
            "Epoch 00045: val_loss did not improve from 0.02125\n",
            "Epoch 46/50\n",
            "1875/1875 - 25s - loss: 0.0028 - accuracy: 0.9997 - val_loss: 0.3157 - val_accuracy: 0.9926\n",
            "\n",
            "Epoch 00046: val_loss did not improve from 0.02125\n",
            "Epoch 47/50\n",
            "1875/1875 - 25s - loss: 0.0024 - accuracy: 0.9998 - val_loss: 0.3043 - val_accuracy: 0.9928\n",
            "\n",
            "Epoch 00047: val_loss did not improve from 0.02125\n",
            "Epoch 48/50\n",
            "1875/1875 - 25s - loss: 0.0028 - accuracy: 0.9998 - val_loss: 0.4130 - val_accuracy: 0.9925\n",
            "\n",
            "Epoch 00048: val_loss did not improve from 0.02125\n",
            "Epoch 49/50\n",
            "1875/1875 - 25s - loss: 0.0036 - accuracy: 0.9998 - val_loss: 0.4411 - val_accuracy: 0.9925\n",
            "\n",
            "Epoch 00049: val_loss did not improve from 0.02125\n",
            "Epoch 50/50\n",
            "1875/1875 - 25s - loss: 0.0065 - accuracy: 0.9996 - val_loss: 0.3261 - val_accuracy: 0.9933\n",
            "\n",
            "Epoch 00050: val_loss did not improve from 0.02125\n"
          ],
          "name": "stdout"
        }
      ]
    },
    {
      "cell_type": "code",
      "metadata": {
        "id": "TtoWtH963tSD"
      },
      "source": [
        "model.load_weights('model.weights.best.hdf5')"
      ],
      "execution_count": 10,
      "outputs": []
    },
    {
      "cell_type": "code",
      "metadata": {
        "id": "Q1FZS_N23xs7",
        "colab": {
          "base_uri": "https://localhost:8080/"
        },
        "outputId": "d98c6e9f-4f73-475c-b4c6-0927cfeff2e7"
      },
      "source": [
        "score = model.evaluate(X_test, y_test, verbose=0)\n",
        "accuracy = 100*score[1]\n",
        "\n",
        "# print test accuracy\n",
        "print('Test accuracy: %.4f%%' % accuracy)"
      ],
      "execution_count": 11,
      "outputs": [
        {
          "output_type": "stream",
          "text": [
            "Test accuracy: 99.2900%\n"
          ],
          "name": "stdout"
        }
      ]
    },
    {
      "cell_type": "code",
      "metadata": {
        "id": "PLECAC-b3xqT"
      },
      "source": [
        ""
      ],
      "execution_count": 11,
      "outputs": []
    },
    {
      "cell_type": "code",
      "metadata": {
        "id": "_fvOJc3R3xnT"
      },
      "source": [
        ""
      ],
      "execution_count": 11,
      "outputs": []
    },
    {
      "cell_type": "code",
      "metadata": {
        "id": "mYZKjE5o3xkj"
      },
      "source": [
        ""
      ],
      "execution_count": 11,
      "outputs": []
    },
    {
      "cell_type": "code",
      "metadata": {
        "id": "K3PG1rhW3xh7"
      },
      "source": [
        ""
      ],
      "execution_count": 11,
      "outputs": []
    }
  ]
}